{
 "cells": [
  {
   "cell_type": "markdown",
   "metadata": {},
   "source": [
    "# Belief Propagation"
   ]
  },
  {
   "cell_type": "markdown",
   "metadata": {},
   "source": [
    "1. Contruct a [Clique Tree](/structures/clique.py) from a given set of factors $\\phi$ \n",
    "2. Assign each factor $\\phi_k \\in \\Phi$ to a clique $C_{\\alpha k}$ such that $Scope[\\phi_k] \\subseteq C_{\\alpha(k)}$. $\\alpha(k)$ returns the index of the clique to which $\\phi_k$ is assigned.\n",
    "Compute initial potentials $\\psi_i(\\mathbf{C}_i) = \\prod_{k:\\alpha(k)=i}\\phi_k$\n",
    "Designate an arbitrary clique as the root, and pass messages upwards from the leaves towards the root clique.\n",
    "Pass messages from the root down towards the leaves.\n",
    "Compute the beliefs for each clique: $\\beta_i(\\mathbf_i)=\\psi_i$"
   ]
  }
 ],
 "metadata": {
  "kernelspec": {
   "display_name": "Python 3",
   "language": "python",
   "name": "python3"
  },
  "language_info": {
   "codemirror_mode": {
    "name": "ipython",
    "version": 3
   },
   "file_extension": ".py",
   "mimetype": "text/x-python",
   "name": "python",
   "nbconvert_exporter": "python",
   "pygments_lexer": "ipython3",
   "version": "3.7.7"
  },
  "toc": {
   "base_numbering": 1,
   "nav_menu": {},
   "number_sections": true,
   "sideBar": true,
   "skip_h1_title": false,
   "title_cell": "Table of Contents",
   "title_sidebar": "Contents",
   "toc_cell": false,
   "toc_position": {},
   "toc_section_display": true,
   "toc_window_display": false
  }
 },
 "nbformat": 4,
 "nbformat_minor": 4
}
